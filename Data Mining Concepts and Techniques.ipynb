{
 "cells": [
  {
   "cell_type": "markdown",
   "metadata": {},
   "source": [
    "### Question to Know about every Data Set\n",
    "- What are the types of attributes or fields that make up your data?\n",
    "- What kind of values does each attribute have? \n",
    "- Which attributes are discrete, and which are continuous-valued?\n",
    "- What do the data look like? \n",
    "- How are the values distributed?\n",
    "- Are there ways we can visualize the data to get a better sense of it all?\n",
    "- Can we spot any outliers?\n",
    "- Can we measure the similarity of some data objects with respect to others?\n",
    "\n",
    "# Types of attribute.\n",
    "- Nominal attributes, binary attributes, ordinal attributes, and numeric attributes.\n",
    "\n",
    "# Attribute\n",
    "- Attribute, dimension, feature and variable is a data field, representing a characteristic or feature of a data object.\n",
    "- Attributes describing a customer object can include, for example, customer ID, name, and address.\n",
    "    - Observed values for a given attribute are known as observations.\n",
    "    - A set of attributes used to describe a given object is called an attribute vector (or feature vector).\n",
    "    \n",
    "- Type: nominal, binary, ordinal or numeric.\n",
    "\n",
    "\n",
    "Nota: The distribution of data involving one attribute (or variable) is called univariate. A bivariate distribution involves two attributes, and so on.\n",
    "\n",
    "\n",
    "## Nominal Attributes\n",
    "- Means “relating to names”. Each value represents somekind of category, code, or state, and so nominal attributes are also referred to as categorical.\n",
    "    - mode (most common value)\n",
    "        \n",
    "        \n",
    "## Binary Attributes:\n",
    "- Is a nominal attribute with only two categories or states: 0 or 1,where 0 typically means that the attribute is absent, and 1 means that it is present.\n",
    "    \n",
    "    \n",
    "## Ordinal Attributes:\n",
    "- An ordinal attribute is an attribute with possible values that have a significant order or ranking among them, but the magnitude between successive values is not known.\n",
    "    - Example: Customer satisfaction had the following ordinal categories: 0: very dissatisfied, 1: somewhat dissatisfied, 2: neutral, 3: satisfied, and 4: very satisfied.\n",
    "        - The central tendency of an ordinal attribute can be represented by its 'mode' and its 'median' (the middle value in an ordered sequence). Plot the measures of central tendency shows us if the data are symmetric or skewed.\n",
    "            - median (middle value).\n",
    "            - mode (most common value).\n",
    "            \n",
    "    \n",
    "Note: Note that nominal, binary, and ordinal attributes are qualitative. That is, they describe a feature of an object without giving an actual size or quantity. The\n",
    "\n",
    "## Numeric Attributes: \n",
    "- Is quantitative; that is, **it is a measurable quantity**, represented in integer or real values. Numeric attributes can be interval-scaled or ratioscaled. \n",
    "\n",
    "    - Interval-scaled attributes are measured on a scale of equal-size units.\n",
    "    - Ratio-Scaled Attributes : A ratio-scaled attribute is a numeric attribute with an inherent zero-point. \n",
    "    - The values are ordered, and we can also compute the difference between values, as well as the mean, median, and mode.\n",
    "    - Examples: \n",
    "        - The Kelvin (K) temperature scale has what is considered a true zero-point (0◦K=−273.15◦C): It is the point at which the particles that comprise matter have zero kinetic energy. \n",
    "        - Other temperature scale has what is considered a true zero-point (0◦K=−273.15◦C): It is the point at which the particles that comprise matter have zero kinetic energy. \n",
    "        - Other examples of ratio-scaled attributes include count attributes such as years of experience (e.g., the objects are employees) and number of words (e.g., the objects are documents).\n",
    "\n",
    "\n",
    "## Discrete versus Continuous Attributes\n",
    "\n",
    "- A discrete attribute has a finite or countably infinite set of values, which may or may not be represented as integers.\n",
    "    - Countably infinite if the set of possible values is infinite but the values can be put in a one-to-one correspondence with natural numbers.\n",
    "    - If an attribute is not discrete, it is continuous.\n",
    "    \n",
    "    \n",
    "# Statistical descriptions\n",
    "\n",
    "## Measuring of Central Tendency: Mean, Median, and Mode\n",
    "\n",
    "## Mean\n",
    "\n",
    "- Mean (average value): Arithmetic mean (AM)\n",
    "\n",
    "$$ \\overline{x}  =\\frac {\\sum_{i=1}^{N} x_i } {N} = \\frac { x_1 + x_2 + ... + x_n } {N} $$\n",
    "\n",
    "## Weighted mean\n",
    "- Weighted Arithmetic mean (WAM)\n",
    "\n",
    "$$ \\overline{x}  =\\frac {\\sum_{i=1}^{N} w_i*x_i } {\\sum_{i=1}^{N} w_i } = \\frac { w_1*x_1 + w_2*x_2 + ... + w_n*x_n } {w_1 + w_2 + ... + w_n } $$\n",
    "\n",
    "- Problem of Mean:\n",
    "    - A major problem with the mean is its sensitivity to extreme (e.g., outlier) values. Even a small number of extreme values can corrupt the mean.\n",
    "\n",
    "- Solutions to problem of Mean.\n",
    "     - Trimmed mean, which is the mean obtained after chopping off values at the high and low extremes.\n",
    "        - For example, we can sort the values observed for salary and remove the top and bottom 2% before computing the mean.\n",
    "\n",
    "\n",
    "## Median\n",
    "- Median (middle value), Plotting the measures of central tendency shows us if the data are symmetric or skewed\n",
    "    - Is the middle value in a set of ordered data values.\n",
    "    \n",
    "Note: Suppose that a given data set of N values for an attribute X is sorted in increasing order. If N is odd (Impar), then the median is the middle value of the ordered set. If N is even (Par), then the median is not unique; it is the two middlemost values and any value in between, by convention, the median is taken as the average of the two middle most values.\n",
    "\n",
    "- Problem of Median: \n",
    "    - Median is expensive to compute when we have a large number of observations.\n",
    "    \n",
    "- Solutions to problem of Median.\n",
    "    - Approximate the median of the entire data set (e.g., the median salary) by interpolation\n",
    "    \n",
    "    \n",
    "## Mode\n",
    "- Mode (most common value)\n",
    "\n",
    "    - The value that occurs most frequently in the set. \n",
    "    - Can be determined for qualitative and quantitative attributes.\n",
    "\n",
    "    - Used in nominal Atributes: Nominal means “relating to names.” Each value represents somekind of category, code, or state, and so nominal attributes are also referred to as categorical.\n",
    "    \n",
    "    \n",
    "- Alternative to Mode: Midrange:\n",
    "    - It is the average of the largest and smallest values in the set\n",
    "    \n",
    "    $$ Midrange = \\frac {mas(x)+min(x)} {2}$$\n",
    "    \n",
    "Note: Data sets with one, two, or three modes are respectively called unimodal, bimodal, and trimodal. If each data value occurs only once, then there is no mode.\n",
    "\n",
    "<!---\n",
    "<img src=\"./images/Positively and Negative skewed.jpg \" width = 500 height = 300/>\n",
    "-->"
   ]
  },
  {
   "cell_type": "code",
   "execution_count": 21,
   "metadata": {
    "collapsed": true
   },
   "outputs": [],
   "source": [
    "import numpy as np\n",
    "import pandas as pd\n",
    "from scipy import stats\n",
    "import matplotlib.pyplot as plt\n",
    "%matplotlib inline"
   ]
  },
  {
   "cell_type": "code",
   "execution_count": 22,
   "metadata": {
    "collapsed": false
   },
   "outputs": [
    {
     "name": "stdout",
     "output_type": "stream",
     "text": [
      "Mean:  58.0 \n",
      "Median:  54.0 \n",
      "Mode:      0\n",
      "0  52\n",
      "1  70 \n",
      "Midrange:  70.0\n"
     ]
    }
   ],
   "source": [
    "#df = pd.read_csv('C:/Users/Havy_DCC/Desktop/train.csv')\n",
    "#x = df[df.Dept==1].Weekly_Sales.sort_values()\n",
    "x = pd.DataFrame(data = [30, 36, 47, 50, 52, 52, 56, 60, 63, 70, 70, 110])\n",
    "\n",
    "\"\"\"Para evitar que las metricas esten sesgadas \n",
    "elimina el 2% de los valores menores o mayores\n",
    "deleting_percent = 0.2\n",
    "values_to_delete = int(len(x) * deleting_percent)\n",
    "x = x[values_to_delete:len(x) - values_to_delete].values\n",
    "\"\"\" \n",
    "\n",
    "def Statistics_Central_Tendency (x): # Measuring the Central Tendency: Mean, Median, and Mode\n",
    "    mean = x.mean()\n",
    "    median = x.median()\n",
    "    mode = x.mode()\n",
    "    Midrange = (x.min() + x.max()) / 2\n",
    "    print ('Mean: ', mean[0], '\\nMedian: ', median[0], '\\nMode: ', mode, '\\nMidrange: ', Midrange[0])\n",
    "\n",
    "Statistics_Central_Tendency (x)"
   ]
  },
  {
   "cell_type": "markdown",
   "metadata": {
    "collapsed": true
   },
   "source": [
    "# Measuring the Dispersion of Data:\n",
    "\n",
    "## Range, Quartiles, and Interquartile Range\n",
    "\n",
    "## Range:\n",
    "   - The range of the set is the difference between the largest (max()) and smallest (min()) values.\n",
    "      - numpy.ptp(x) or max(x) - min(x)\n",
    "       \n",
    "## Quantiles: \n",
    "   - Are points taken at regular intervals of a data distribution, dividing it into essentially equal-size consecutive sets.\n",
    "   - Values (X) are sorted in increasing numeric order.   \n",
    "   - The kth q-quantile for a given data distribution is the value x such that at most k/q of the data values are less than x and at most (q−k)/q of the data values are more than x, where k is an integer such that 0 < k <q.    \n",
    "   - The 4-quantiles are the three data points that split the data distribution into four equal parts; each part represents one-fourth of the data distribution. They are more commonly referred to as quartiles (There are q−1 q-quantiles).\n",
    "   - 100-quantiles are more commonly referred to as percentiles; they divide the data distribution into 100 equal-sized consecutive sets.\n",
    "   - First quartile, denoted by Q1, is the 25th percentile. It cuts off the lowest 25% of the data.\n",
    "   - Second quartile denoted by Q2, is the 50th percentile. As the median, it gives the center of the data distribution.\n",
    "   - Third quartile, denoted by Q3, is the 75th percentile—it cuts off the lowest 75% (or highest 25%) of the data.\n",
    "   \n",
    "## Interquartile range (IQR):\n",
    "   - The distance between the first and third quartiles ie a simple measure of spread that gives the range covered by the middle half of the data:\n",
    "       - $IQR = Q_3 − Q_1$\n",
    "       \n",
    "   - IQR is very useful for describing skewed (sesgadas) distributions.\n",
    "\n",
    "Note: These is a simple measure of spread that gives the range covered by the middle half of the data.\n",
    "\n",
    "## Five-number summary:\n",
    "    - Minimum, Q1, Median, Q3 and Maximum\n",
    "    - These give more informations of the end-points (e.g., tails) of the data.   \n",
    "    - Data in most real applications are not symmetric. They may instead be either positively skewed, where the mode occurs at a value that is smaller than the median, or negatively skewed, where the mode occurs at a value greater than the median.\n",
    "    \n",
    "## Boxplots\n",
    "    - Typically, the ends of the box are at the quartiles so that the box length is the interquartile range. The median is marked by a line within the box. Two lines (called whiskers) outside the box extend to the smallest (Minimum) and largest (Maximum) observations.\n",
    "    - Boxplots can be computed in O(nlogn) time. Approximate boxplots can be com- puted in linear or sublinear time depending on the quality guarantee required.\n",
    "    \n",
    "## Potential outliers individually:\n",
    "    - Extended to the extreme low and high observations only if these values are less than 1.5×IQR beyond the quartiles"
   ]
  },
  {
   "cell_type": "code",
   "execution_count": 23,
   "metadata": {
    "collapsed": false
   },
   "outputs": [
    {
     "data": {
      "image/png": "[encoded data removed]",
      "text/plain": [
       "<matplotlib.figure.Figure at 0x13982b3fc88>"
      ]
     },
     "metadata": {},
     "output_type": "display_data"
    },
    {
     "data": {
      "image/png": "[encoded data removed]",
      "text/plain": [
       "<matplotlib.figure.Figure at 0x13982de53c8>"
      ]
     },
     "metadata": {},
     "output_type": "display_data"
    },
    {
     "name": "stdout",
     "output_type": "stream",
     "text": [
      "Measure_range:  80 \n",
      "Measure_quartiles:  [49.25, 54.0, 64.75] \n",
      "IQR:  15.5 \n",
      "Values of 1.5 * IQR to detect Outliers:  23.25 \n",
      "Outlier detected by 1.5 * IQR:  []\n",
      "\n",
      "Five-number summary: \n",
      "Min:  30 \n",
      "Q1:  49.25 \n",
      "Median:  54.0 \n",
      "Q3:  64.75 \n",
      "Max:  110\n"
     ]
    }
   ],
   "source": [
    "def Statistics_Dispertion (x, quantiles):\n",
    "    x = x.sort_values()\n",
    "    \n",
    "    Measure_range = np.ptp(x) # or max(x) - min(x)    \n",
    "    Measure_quartiles = [np.percentile(x.values, q = i) for i in quantiles]\n",
    "    \n",
    "    IQR = Measure_quartiles[2] - Measure_quartiles[0] # difference between Q3 and Q1\n",
    "    \n",
    "    Outlier_detection_IQR = 1.5 * IQR\n",
    "    Outlier = []\n",
    "    for i in x:\n",
    "        if Outlier_detection_IQR > i:\n",
    "            #print ('Outlier')\n",
    "            Outlier.append(i)   \n",
    "            \n",
    "    median = np.median(x)\n",
    "\n",
    "    plt.subplot(2, 2, 1)\n",
    "    plt.hist(x.values, bins = len(set(x.values)), color = 'b')\n",
    "    plt.ylabel('Frecuency')\n",
    "    plt.xlabel('All Values')\n",
    "    \n",
    "    plt.subplot(2, 2, 2)\n",
    "    plt.boxplot(x.values, labels = ['Values'])\n",
    "    plt.show()\n",
    "\n",
    "    arrays = {}\n",
    "    #data = []\n",
    "    \n",
    "    x = pd.DataFrame(data = [30, 36, 47, 50, 52, 52, 56, 60, 63, 70, 70, 110])\n",
    "    \n",
    "    a = 0\n",
    "    j = 0\n",
    "    for k, val in enumerate(x.values):\n",
    "        if (a < len(Measure_quartiles)):\n",
    "            if (val >= Measure_quartiles[a]):\n",
    "                arrays [a] = x[j:k]\n",
    "                j = k \n",
    "                a += 1\n",
    "    arrays [a] = x[j:x.__len__()]\n",
    "    \n",
    "    #[data.append(val) for i,val in arrays.items()]\n",
    "    plt.boxplot(list(arrays.values()) )\n",
    "    plt.xlabel('This box plto not include all values of the data set ')\n",
    "    #plt.boxplot(data)\n",
    "    plt.show()\n",
    "\n",
    "    \n",
    "    print ('Measure_range: ', Measure_range, '\\nMeasure_quartiles: ', Measure_quartiles, '\\nIQR: ', IQR,\n",
    "           '\\nValues of 1.5 * IQR to detect Outliers: ', Outlier_detection_IQR,\n",
    "           '\\nOutlier detected by 1.5 * IQR: ', Outlier)\n",
    "    \n",
    "    print ('\\nFive-number summary: ')\n",
    "    \n",
    "    print ('Min: ', x.min()[0], '\\nQ1: ', Measure_quartiles[0], '\\nMedian: ',\n",
    "           median, '\\nQ3: ', Measure_quartiles[2], '\\nMax: ', x.max()[0])\n",
    "    \n",
    "    return arrays\n",
    "\n",
    "quantiles = [25, 50, 75]\n",
    "arrays = Statistics_Dispertion (x[0], quantiles)"
   ]
  },
  {
   "cell_type": "markdown",
   "metadata": {},
   "source": [
    "# Measures of data dispersion\n",
    "\n",
    "### Variance\n",
    "\n",
    "- A low standard deviation means that the data observa-tions tend to be very close to the mean, while a high standard deviation indicates that the data are spread out over a large range of values. The variance of N observations, $x_1,x_2, . . . ,x_N$, for a numeric attribute X is N\n",
    "\n",
    "$$ \\sigma^2 =  \\frac {1} {N}  \\sum_{i=1}^{N} (x_i - \\overline{x})^2 = (\\frac {1} {N}  \\sum_{i=1}^{N} (x_i^2) ) - \\overline{x}^2\n",
    "$$\n",
    "\n",
    "Where $\\overline{x} =\\frac {\\sum_{i=1}^{N} x_i } {N} = \\frac { x_1 + x_2 + ... + x_n } {N} $ (the mean value of the observations).\n",
    "\n",
    "### Standard Deviation\n",
    "\n",
    "$\\sigma = \\sqrt{\\sigma^2} $\n"
   ]
  },
  {
   "cell_type": "code",
   "execution_count": 24,
   "metadata": {
    "collapsed": false
   },
   "outputs": [
    {
     "name": "stdout",
     "output_type": "stream",
     "text": [
      "Varianze:  379.166666667 \n",
      "Media 54.0 \n",
      "Standars_Deviation:  19.4722024092\n"
     ]
    }
   ],
   "source": [
    "def Statistics_Dispertion_2 (x):\n",
    "    Varianze = x.values.var()\n",
    "    Standars_Deviation = x.values.std()\n",
    "    print ('Varianze: ', Varianze, '\\nMedia', np.median(x),\n",
    "           '\\nStandars_Deviation: ', Standars_Deviation)\n",
    "\n",
    "Statistics_Dispertion_2 (x[0])"
   ]
  },
  {
   "cell_type": "markdown",
   "metadata": {
    "collapsed": true
   },
   "source": [
    "# Graphic Displays of Basic Statistical Descriptions of Data\n",
    "- Study graphic displays of basic statistical descriptions:\n",
    "\n",
    "## Univariate distributions (i.e., data for one attribute):\n",
    "    \n",
    "### - Quantile plots\n",
    "- It displays all of the data for the given attribute.\n",
    "- It plots quantile information\n",
    "Note: For example, given the quantile plots of sales data for two different time periods, we can compare their Q1, median, Q3, and other fi values at a glance.\n",
    "\n",
    "Each observation, xi, is paired with a percentage, $fi$, which indicates that approximately fi × 100% of the data are below the value, xi.\n",
    "\n",
    "Let: $f_i = \\frac {i-0.5}{N}$\n",
    "\n",
    "These numbers increase in equal steps of $\\frac {1} {N}$, ranging from $\\frac {1} {2N}$ (which is slightly above 0) to $1 − \\frac {1} {2N}$. On a quantile plot, xi is graphed against fi. This allows us to compare different distributions based on their quantiles.\n",
    "\n",
    "Note: For example, given the quantile plots of sales data for two different time periods, we can compare their Q1, median, Q3, and other fi values at a glance."
   ]
  },
  {
   "cell_type": "code",
   "execution_count": 30,
   "metadata": {
    "collapsed": false
   },
   "outputs": [
    {
     "data": {
      "image/png": "[encoded data removed]",
      "text/plain": [
       "<matplotlib.figure.Figure at 0x13982c8ae10>"
      ]
     },
     "metadata": {},
     "output_type": "display_data"
    }
   ],
   "source": [
    "data = {'Unit_Price': [40, 43, 47, 74, 75, 78, 115, 117, 120], \n",
    "        'Count_of_Items_Sold': [275, 300, 250, 360, 515, 540, 320, 270, 350]}\n",
    "\n",
    "def quantileplot(data, post):\n",
    "    x = pd.DataFrame(data = data)\n",
    "    x = x.sort_values(by = [pos])\n",
    "\n",
    "    fi = lambda x: (x - 0.5) / x.__len__()\n",
    "\n",
    "    quantiles = [25, 50, 75, 100]\n",
    "\n",
    "    x['fi'] = fi(x.Unit_Price)\n",
    "    Measure_quartiles = [np.percentile(x.fi, q = i) for i in quantiles]\n",
    "    Measure_quartiles_UP = [np.percentile(x[pos], q = i) for i in quantiles]\n",
    "\n",
    "    plt.plot(x.fi, data[pos], 'bo')\n",
    "    plt.xlabel('fi')\n",
    "    plt.ylabel('Unit Price')\n",
    "    plt.plot(Measure_quartiles, Measure_quartiles_UP,'ro')\n",
    "    plt.xticks(Measure_quartiles, ['Q1', 'Q2', 'Q3', 'Q4'], rotation='vertical')\n",
    "    plt.show()\n",
    "\n",
    "quantileplot(data, 'Unit_Price')"
   ]
  },
  {
   "cell_type": "markdown",
   "metadata": {},
   "source": [
    "\n",
    "### - Quantile–quantile plots\n",
    "- Aquantile–quantile plot, or q-q plot graphs the quantiles of one univariate distribution against the corresponding quantiles of another.\n",
    "- Allows the user to view whether there is a shift(cambio) in going fromone distribution to another (distribution of branch 1 with respect to branch 2)\n",
    "\n",
    "Example:\n",
    "- We have two N and M sets of observations for the attribute or variable unit price.\n",
    "- Let $x_1, . . . ,x_N$ be the data from the first branch, and $y_1$, . . . ,$y_M$ be the data from the second, where each data set is sorted in increasing order ( M = N)"
   ]
  },
  {
   "cell_type": "code",
   "execution_count": 35,
   "metadata": {
    "collapsed": false
   },
   "outputs": [
    {
     "data": {
      "image/png": "[encoded data removed]",
      "text/plain": [
       "<matplotlib.figure.Figure at 0x13982e20550>"
      ]
     },
     "metadata": {},
     "output_type": "display_data"
    },
    {
     "name": "stdout",
     "output_type": "stream",
     "text": [
      "Quatiles for fi: [8.5714285714285712, 10.642857142857142, 13.714285714285715, 16.642857142857142] \n",
      "Quatiles for real values: [60.5, 75.0, 96.5, 117.0]\n"
     ]
    },
    {
     "data": {
      "image/png": "[encoded data removed]",
      "text/plain": [
       "<matplotlib.figure.Figure at 0x13982e20dd8>"
      ]
     },
     "metadata": {},
     "output_type": "display_data"
    },
    {
     "name": "stdout",
     "output_type": "stream",
     "text": [
      "Quatiles for fi: [6.3571428571428577, 10.5, 10.857142857142858, 16.357142857142858] \n",
      "Quatiles for real values: [45.0, 74.0, 76.5, 115.0]\n"
     ]
    }
   ],
   "source": [
    "fi = lambda x: (x - 0.5) / x.__len__()\n",
    "def QQ_Plot (table, quantiles, pos):\n",
    "    table['fi'] = fi(table[pos])\n",
    "    Measure_quartiles_fi = [np.percentile(table.fi, q = i) for i in quantiles]\n",
    "    Measure_quartiles_UP = [np.percentile(table[pos], q = i) for i in quantiles]\n",
    "    \n",
    "    plt.plot(table.fi, table[pos], 'bo')\n",
    "    plt.xlabel('fi')\n",
    "    plt.ylabel('Unit Price')\n",
    "    \n",
    "    plt.plot(Measure_quartiles_fi, Measure_quartiles_UP,'ro')\n",
    "    plt.xticks(Measure_quartiles_fi, ['Q1', 'Q2', 'Q3', 'Q4'])\n",
    "    plt.show()\n",
    "    print ('Quatiles for fi:', Measure_quartiles_fi,'\\nQuatiles for real values:', Measure_quartiles_UP)\n",
    "    return table, Measure_quartiles_fi, Measure_quartiles_UP\n",
    "\n",
    "quantiles = [25, 50, 75, 100]    \n",
    "samples = 7\n",
    "x = pd.DataFrame(data = data)\n",
    "pos = 'Unit_Price'\n",
    "x1 = x.sample(samples).sort_values(by = [pos])\n",
    "x2 = x.sample(samples).sort_values(by = [pos])\n",
    "\n",
    "table_X1, Measure_quartiles_fi_X1, Measure_quartiles_UP_X1 = QQ_Plot (x1, quantiles, pos)\n",
    "table_X2, Measure_quartiles_fi_X2, Measure_quartiles_UP_X2 = QQ_Plot (x2, quantiles, pos)"
   ]
  },
  {
   "cell_type": "markdown",
   "metadata": {},
   "source": [
    "- If $M < N$ (i.e., the second branch has fewer observations than the first), there can be only M points on the q-q plot. Here, $y_i$ is the $(i−0.5)/M$ quantile of the y data, which is plotted against the $(i−0.5)/M$ quantile of the x data. This computation typically involves interpolation."
   ]
  },
  {
   "cell_type": "code",
   "execution_count": 36,
   "metadata": {
    "collapsed": false
   },
   "outputs": [
    {
     "ename": "FileNotFoundError",
     "evalue": "File b'C:/Users/Havy_DCC/Desktop/train.csv' does not exist",
     "output_type": "error",
     "traceback": [
      "\u001b[0;31m---------------------------------------------------------------------------\u001b[0m",
      "\u001b[0;31mFileNotFoundError\u001b[0m                         Traceback (most recent call last)",
      "\u001b[0;32m<ipython-input-36-5985363f3b67>\u001b[0m in \u001b[0;36m<module>\u001b[0;34m()\u001b[0m\n\u001b[1;32m      1\u001b[0m \u001b[0msamples\u001b[0m \u001b[1;33m=\u001b[0m \u001b[1;36m50\u001b[0m\u001b[1;33m\u001b[0m\u001b[0m\n\u001b[0;32m----> 2\u001b[0;31m \u001b[0mdf\u001b[0m \u001b[1;33m=\u001b[0m \u001b[0mpd\u001b[0m\u001b[1;33m.\u001b[0m\u001b[0mread_csv\u001b[0m\u001b[1;33m(\u001b[0m\u001b[1;34m'C:/Users/Havy_DCC/Desktop/train.csv'\u001b[0m\u001b[1;33m)\u001b[0m\u001b[1;33m\u001b[0m\u001b[0m\n\u001b[0m\u001b[1;32m      3\u001b[0m \u001b[0mx\u001b[0m \u001b[1;33m=\u001b[0m \u001b[0mdf\u001b[0m\u001b[1;33m[\u001b[0m\u001b[0mdf\u001b[0m\u001b[1;33m.\u001b[0m\u001b[0mDept\u001b[0m\u001b[1;33m==\u001b[0m\u001b[1;36m1\u001b[0m\u001b[1;33m]\u001b[0m\u001b[1;33m\u001b[0m\u001b[0m\n\u001b[1;32m      4\u001b[0m \u001b[0mpos\u001b[0m \u001b[1;33m=\u001b[0m \u001b[1;34m'Weekly_Sales'\u001b[0m\u001b[1;33m\u001b[0m\u001b[0m\n\u001b[1;32m      5\u001b[0m \u001b[0mx\u001b[0m \u001b[1;33m=\u001b[0m \u001b[0mx\u001b[0m\u001b[1;33m.\u001b[0m\u001b[0msort_values\u001b[0m\u001b[1;33m(\u001b[0m\u001b[0mby\u001b[0m \u001b[1;33m=\u001b[0m \u001b[1;33m[\u001b[0m\u001b[1;34m'Weekly_Sales'\u001b[0m\u001b[1;33m]\u001b[0m\u001b[1;33m,\u001b[0m \u001b[0maxis\u001b[0m \u001b[1;33m=\u001b[0m \u001b[1;36m0\u001b[0m\u001b[1;33m)\u001b[0m\u001b[1;33m\u001b[0m\u001b[0m\n",
      "\u001b[0;32mC:\\Program Files\\Anaconda3\\lib\\site-packages\\pandas\\io\\parsers.py\u001b[0m in \u001b[0;36mparser_f\u001b[0;34m(filepath_or_buffer, sep, delimiter, header, names, index_col, usecols, squeeze, prefix, mangle_dupe_cols, dtype, engine, converters, true_values, false_values, skipinitialspace, skiprows, nrows, na_values, keep_default_na, na_filter, verbose, skip_blank_lines, parse_dates, infer_datetime_format, keep_date_col, date_parser, dayfirst, iterator, chunksize, compression, thousands, decimal, lineterminator, quotechar, quoting, escapechar, comment, encoding, dialect, tupleize_cols, error_bad_lines, warn_bad_lines, skipfooter, skip_footer, doublequote, delim_whitespace, as_recarray, compact_ints, use_unsigned, low_memory, buffer_lines, memory_map, float_precision)\u001b[0m\n\u001b[1;32m    644\u001b[0m                     skip_blank_lines=skip_blank_lines)\n\u001b[1;32m    645\u001b[0m \u001b[1;33m\u001b[0m\u001b[0m\n\u001b[0;32m--> 646\u001b[0;31m         \u001b[1;32mreturn\u001b[0m \u001b[0m_read\u001b[0m\u001b[1;33m(\u001b[0m\u001b[0mfilepath_or_buffer\u001b[0m\u001b[1;33m,\u001b[0m \u001b[0mkwds\u001b[0m\u001b[1;33m)\u001b[0m\u001b[1;33m\u001b[0m\u001b[0m\n\u001b[0m\u001b[1;32m    647\u001b[0m \u001b[1;33m\u001b[0m\u001b[0m\n\u001b[1;32m    648\u001b[0m     \u001b[0mparser_f\u001b[0m\u001b[1;33m.\u001b[0m\u001b[0m__name__\u001b[0m \u001b[1;33m=\u001b[0m \u001b[0mname\u001b[0m\u001b[1;33m\u001b[0m\u001b[0m\n",
      "\u001b[0;32mC:\\Program Files\\Anaconda3\\lib\\site-packages\\pandas\\io\\parsers.py\u001b[0m in \u001b[0;36m_read\u001b[0;34m(filepath_or_buffer, kwds)\u001b[0m\n\u001b[1;32m    387\u001b[0m \u001b[1;33m\u001b[0m\u001b[0m\n\u001b[1;32m    388\u001b[0m     \u001b[1;31m# Create the parser.\u001b[0m\u001b[1;33m\u001b[0m\u001b[1;33m\u001b[0m\u001b[0m\n\u001b[0;32m--> 389\u001b[0;31m     \u001b[0mparser\u001b[0m \u001b[1;33m=\u001b[0m \u001b[0mTextFileReader\u001b[0m\u001b[1;33m(\u001b[0m\u001b[0mfilepath_or_buffer\u001b[0m\u001b[1;33m,\u001b[0m \u001b[1;33m**\u001b[0m\u001b[0mkwds\u001b[0m\u001b[1;33m)\u001b[0m\u001b[1;33m\u001b[0m\u001b[0m\n\u001b[0m\u001b[1;32m    390\u001b[0m \u001b[1;33m\u001b[0m\u001b[0m\n\u001b[1;32m    391\u001b[0m     \u001b[1;32mif\u001b[0m \u001b[1;33m(\u001b[0m\u001b[0mnrows\u001b[0m \u001b[1;32mis\u001b[0m \u001b[1;32mnot\u001b[0m \u001b[1;32mNone\u001b[0m\u001b[1;33m)\u001b[0m \u001b[1;32mand\u001b[0m \u001b[1;33m(\u001b[0m\u001b[0mchunksize\u001b[0m \u001b[1;32mis\u001b[0m \u001b[1;32mnot\u001b[0m \u001b[1;32mNone\u001b[0m\u001b[1;33m)\u001b[0m\u001b[1;33m:\u001b[0m\u001b[1;33m\u001b[0m\u001b[0m\n",
      "\u001b[0;32mC:\\Program Files\\Anaconda3\\lib\\site-packages\\pandas\\io\\parsers.py\u001b[0m in \u001b[0;36m__init__\u001b[0;34m(self, f, engine, **kwds)\u001b[0m\n\u001b[1;32m    728\u001b[0m             \u001b[0mself\u001b[0m\u001b[1;33m.\u001b[0m\u001b[0moptions\u001b[0m\u001b[1;33m[\u001b[0m\u001b[1;34m'has_index_names'\u001b[0m\u001b[1;33m]\u001b[0m \u001b[1;33m=\u001b[0m \u001b[0mkwds\u001b[0m\u001b[1;33m[\u001b[0m\u001b[1;34m'has_index_names'\u001b[0m\u001b[1;33m]\u001b[0m\u001b[1;33m\u001b[0m\u001b[0m\n\u001b[1;32m    729\u001b[0m \u001b[1;33m\u001b[0m\u001b[0m\n\u001b[0;32m--> 730\u001b[0;31m         \u001b[0mself\u001b[0m\u001b[1;33m.\u001b[0m\u001b[0m_make_engine\u001b[0m\u001b[1;33m(\u001b[0m\u001b[0mself\u001b[0m\u001b[1;33m.\u001b[0m\u001b[0mengine\u001b[0m\u001b[1;33m)\u001b[0m\u001b[1;33m\u001b[0m\u001b[0m\n\u001b[0m\u001b[1;32m    731\u001b[0m \u001b[1;33m\u001b[0m\u001b[0m\n\u001b[1;32m    732\u001b[0m     \u001b[1;32mdef\u001b[0m \u001b[0mclose\u001b[0m\u001b[1;33m(\u001b[0m\u001b[0mself\u001b[0m\u001b[1;33m)\u001b[0m\u001b[1;33m:\u001b[0m\u001b[1;33m\u001b[0m\u001b[0m\n",
      "\u001b[0;32mC:\\Program Files\\Anaconda3\\lib\\site-packages\\pandas\\io\\parsers.py\u001b[0m in \u001b[0;36m_make_engine\u001b[0;34m(self, engine)\u001b[0m\n\u001b[1;32m    921\u001b[0m     \u001b[1;32mdef\u001b[0m \u001b[0m_make_engine\u001b[0m\u001b[1;33m(\u001b[0m\u001b[0mself\u001b[0m\u001b[1;33m,\u001b[0m \u001b[0mengine\u001b[0m\u001b[1;33m=\u001b[0m\u001b[1;34m'c'\u001b[0m\u001b[1;33m)\u001b[0m\u001b[1;33m:\u001b[0m\u001b[1;33m\u001b[0m\u001b[0m\n\u001b[1;32m    922\u001b[0m         \u001b[1;32mif\u001b[0m \u001b[0mengine\u001b[0m \u001b[1;33m==\u001b[0m \u001b[1;34m'c'\u001b[0m\u001b[1;33m:\u001b[0m\u001b[1;33m\u001b[0m\u001b[0m\n\u001b[0;32m--> 923\u001b[0;31m             \u001b[0mself\u001b[0m\u001b[1;33m.\u001b[0m\u001b[0m_engine\u001b[0m \u001b[1;33m=\u001b[0m \u001b[0mCParserWrapper\u001b[0m\u001b[1;33m(\u001b[0m\u001b[0mself\u001b[0m\u001b[1;33m.\u001b[0m\u001b[0mf\u001b[0m\u001b[1;33m,\u001b[0m \u001b[1;33m**\u001b[0m\u001b[0mself\u001b[0m\u001b[1;33m.\u001b[0m\u001b[0moptions\u001b[0m\u001b[1;33m)\u001b[0m\u001b[1;33m\u001b[0m\u001b[0m\n\u001b[0m\u001b[1;32m    924\u001b[0m         \u001b[1;32melse\u001b[0m\u001b[1;33m:\u001b[0m\u001b[1;33m\u001b[0m\u001b[0m\n\u001b[1;32m    925\u001b[0m             \u001b[1;32mif\u001b[0m \u001b[0mengine\u001b[0m \u001b[1;33m==\u001b[0m \u001b[1;34m'python'\u001b[0m\u001b[1;33m:\u001b[0m\u001b[1;33m\u001b[0m\u001b[0m\n",
      "\u001b[0;32mC:\\Program Files\\Anaconda3\\lib\\site-packages\\pandas\\io\\parsers.py\u001b[0m in \u001b[0;36m__init__\u001b[0;34m(self, src, **kwds)\u001b[0m\n\u001b[1;32m   1388\u001b[0m         \u001b[0mkwds\u001b[0m\u001b[1;33m[\u001b[0m\u001b[1;34m'allow_leading_cols'\u001b[0m\u001b[1;33m]\u001b[0m \u001b[1;33m=\u001b[0m \u001b[0mself\u001b[0m\u001b[1;33m.\u001b[0m\u001b[0mindex_col\u001b[0m \u001b[1;32mis\u001b[0m \u001b[1;32mnot\u001b[0m \u001b[1;32mFalse\u001b[0m\u001b[1;33m\u001b[0m\u001b[0m\n\u001b[1;32m   1389\u001b[0m \u001b[1;33m\u001b[0m\u001b[0m\n\u001b[0;32m-> 1390\u001b[0;31m         \u001b[0mself\u001b[0m\u001b[1;33m.\u001b[0m\u001b[0m_reader\u001b[0m \u001b[1;33m=\u001b[0m \u001b[0m_parser\u001b[0m\u001b[1;33m.\u001b[0m\u001b[0mTextReader\u001b[0m\u001b[1;33m(\u001b[0m\u001b[0msrc\u001b[0m\u001b[1;33m,\u001b[0m \u001b[1;33m**\u001b[0m\u001b[0mkwds\u001b[0m\u001b[1;33m)\u001b[0m\u001b[1;33m\u001b[0m\u001b[0m\n\u001b[0m\u001b[1;32m   1391\u001b[0m \u001b[1;33m\u001b[0m\u001b[0m\n\u001b[1;32m   1392\u001b[0m         \u001b[1;31m# XXX\u001b[0m\u001b[1;33m\u001b[0m\u001b[1;33m\u001b[0m\u001b[0m\n",
      "\u001b[0;32mpandas\\parser.pyx\u001b[0m in \u001b[0;36mpandas.parser.TextReader.__cinit__ (pandas\\parser.c:4184)\u001b[0;34m()\u001b[0m\n",
      "\u001b[0;32mpandas\\parser.pyx\u001b[0m in \u001b[0;36mpandas.parser.TextReader._setup_parser_source (pandas\\parser.c:8449)\u001b[0;34m()\u001b[0m\n",
      "\u001b[0;31mFileNotFoundError\u001b[0m: File b'C:/Users/Havy_DCC/Desktop/train.csv' does not exist"
     ]
    }
   ],
   "source": [
    "samples = 50\n",
    "df = pd.read_csv('C:/Users/Havy_DCC/Desktop/train.csv')\n",
    "x = df[df.Dept==1]\n",
    "pos = 'Weekly_Sales'\n",
    "x = x.sort_values(by = ['Weekly_Sales'], axis = 0)\n",
    "x1 = x.sample(samples).sort_values(by = ['Weekly_Sales'])\n",
    "x2 = x.sample(samples).sort_values(by = ['Weekly_Sales'])\n",
    "\n",
    "quantiles = [25, 50, 75, 100]\n",
    "\n",
    "table_X1, Measure_quartiles_fi_X1, Measure_quartiles_UP_X1 = QQ_Plot (x1, quantiles, pos)\n",
    "table_X2, Measure_quartiles_fi_X2, Measure_quartiles_UP_X2 = QQ_Plot (x2, quantiles, pos)\n",
    "\n",
    "print ('\\nQuatiles for real values 1:', Measure_quartiles_fi_X1,'\\nQuatiles for real values 2:', Measure_quartiles_fi_X2)\n",
    "plt.plot(table_X1[pos], table_X2[pos], '-bo')\n",
    "plt.plot(Measure_quartiles_UP_X1, Measure_quartiles_UP_X2, 'ro')\n",
    "plt.xlabel('Branch 1, Unit Price')\n",
    "plt.xticks(Measure_quartiles_UP_X1, ['Q1', 'Q2', 'Q3', 'Q4'])\n",
    "plt.ylabel('Branch 2, Unit Price')\n",
    "plt.show()"
   ]
  },
  {
   "cell_type": "markdown",
   "metadata": {},
   "source": [
    "### - Histograms\n",
    "\n",
    "- “Histos” means pole or mast, and “gram” means chart, so a histogram is a chart of poles.\n",
    "- Is a graphical method for summarizing the distribution of a given attribute, X.\n",
    "    - The height of the bar indicates the frequency (i.e., count) of that X value.\n",
    "    - If X is numeric, the term histogram is preferred. The range of values for X is partitioned into disjoint consecutive subranges.\n",
    "        - The range of a bucket (subranges) is known as the width."
   ]
  },
  {
   "cell_type": "code",
   "execution_count": null,
   "metadata": {
    "collapsed": false
   },
   "outputs": [],
   "source": [
    "help(plt.hist)"
   ]
  },
  {
   "cell_type": "code",
   "execution_count": null,
   "metadata": {
    "collapsed": false
   },
   "outputs": [],
   "source": [
    "hist = plt.hist(x.Weekly_Sales, bins = 20)\n",
    "hist"
   ]
  },
  {
   "cell_type": "code",
   "execution_count": null,
   "metadata": {
    "collapsed": false
   },
   "outputs": [],
   "source": [
    "help(plt.hist)"
   ]
  },
  {
   "cell_type": "markdown",
   "metadata": {},
   "source": [
    "\n",
    "### - Histograms\n",
    "\n",
    "## Bivariate distributions (i.e., involving two attributes):\n",
    "\n",
    "### - Scatter plots"
   ]
  },
  {
   "cell_type": "code",
   "execution_count": null,
   "metadata": {
    "collapsed": true
   },
   "outputs": [],
   "source": []
  }
 ],
 "metadata": {
  "kernelspec": {
   "display_name": "Python 3",
   "language": "python",
   "name": "python3"
  },
  "language_info": {
   "codemirror_mode": {
    "name": "ipython",
    "version": 3
   },
   "file_extension": ".py",
   "mimetype": "text/x-python",
   "name": "python",
   "nbconvert_exporter": "python",
   "pygments_lexer": "ipython3",
   "version": "3.6.0"
  }
 },
 "nbformat": 4,
 "nbformat_minor": 0
}
